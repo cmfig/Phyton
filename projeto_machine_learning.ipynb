{
  "nbformat": 4,
  "nbformat_minor": 0,
  "metadata": {
    "colab": {
      "provenance": []
    },
    "kernelspec": {
      "name": "python3",
      "display_name": "Python 3"
    },
    "language_info": {
      "name": "python"
    }
  },
  "cells": [
    {
      "cell_type": "markdown",
      "source": [
        "## Análise Exploratória"
      ],
      "metadata": {
        "id": "XfaxBRCUBw_h"
      }
    },
    {
      "cell_type": "code",
      "execution_count": 1,
      "metadata": {
        "colab": {
          "base_uri": "https://localhost:8080/",
          "height": 310
        },
        "id": "g3xseDcm2uT6",
        "outputId": "66657abb-c402-4463-96b7-0058e161216f"
      },
      "outputs": [
        {
          "output_type": "execute_result",
          "data": {
            "text/plain": [
              "   age  workclass     education  educational-num      marital-status  \\\n",
              "0   25    Private          11th                7       Never-married   \n",
              "1   38    Private       HS-grad                9  Married-civ-spouse   \n",
              "2   28  Local-gov    Assoc-acdm               12  Married-civ-spouse   \n",
              "3   44    Private  Some-college               10  Married-civ-spouse   \n",
              "4   18          ?  Some-college               10       Never-married   \n",
              "\n",
              "          occupation relationship   race     sex  capital-gain  capital-loss  \\\n",
              "0  Machine-op-inspct    Own-child  Black    Male             0             0   \n",
              "1    Farming-fishing      Husband  White    Male             0             0   \n",
              "2    Protective-serv      Husband  White    Male             0             0   \n",
              "3  Machine-op-inspct      Husband  Black    Male          7688             0   \n",
              "4                  ?    Own-child  White  Female             0             0   \n",
              "\n",
              "   hours-per-week native-country income  \n",
              "0              40  United-States  <=50K  \n",
              "1              50  United-States  <=50K  \n",
              "2              40  United-States   >50K  \n",
              "3              40  United-States   >50K  \n",
              "4              30  United-States  <=50K  "
            ],
            "text/html": [
              "\n",
              "  <div id=\"df-d5dfb217-987f-411d-a7e6-32e0aa577014\" class=\"colab-df-container\">\n",
              "    <div>\n",
              "<style scoped>\n",
              "    .dataframe tbody tr th:only-of-type {\n",
              "        vertical-align: middle;\n",
              "    }\n",
              "\n",
              "    .dataframe tbody tr th {\n",
              "        vertical-align: top;\n",
              "    }\n",
              "\n",
              "    .dataframe thead th {\n",
              "        text-align: right;\n",
              "    }\n",
              "</style>\n",
              "<table border=\"1\" class=\"dataframe\">\n",
              "  <thead>\n",
              "    <tr style=\"text-align: right;\">\n",
              "      <th></th>\n",
              "      <th>age</th>\n",
              "      <th>workclass</th>\n",
              "      <th>education</th>\n",
              "      <th>educational-num</th>\n",
              "      <th>marital-status</th>\n",
              "      <th>occupation</th>\n",
              "      <th>relationship</th>\n",
              "      <th>race</th>\n",
              "      <th>sex</th>\n",
              "      <th>capital-gain</th>\n",
              "      <th>capital-loss</th>\n",
              "      <th>hours-per-week</th>\n",
              "      <th>native-country</th>\n",
              "      <th>income</th>\n",
              "    </tr>\n",
              "  </thead>\n",
              "  <tbody>\n",
              "    <tr>\n",
              "      <th>0</th>\n",
              "      <td>25</td>\n",
              "      <td>Private</td>\n",
              "      <td>11th</td>\n",
              "      <td>7</td>\n",
              "      <td>Never-married</td>\n",
              "      <td>Machine-op-inspct</td>\n",
              "      <td>Own-child</td>\n",
              "      <td>Black</td>\n",
              "      <td>Male</td>\n",
              "      <td>0</td>\n",
              "      <td>0</td>\n",
              "      <td>40</td>\n",
              "      <td>United-States</td>\n",
              "      <td>&lt;=50K</td>\n",
              "    </tr>\n",
              "    <tr>\n",
              "      <th>1</th>\n",
              "      <td>38</td>\n",
              "      <td>Private</td>\n",
              "      <td>HS-grad</td>\n",
              "      <td>9</td>\n",
              "      <td>Married-civ-spouse</td>\n",
              "      <td>Farming-fishing</td>\n",
              "      <td>Husband</td>\n",
              "      <td>White</td>\n",
              "      <td>Male</td>\n",
              "      <td>0</td>\n",
              "      <td>0</td>\n",
              "      <td>50</td>\n",
              "      <td>United-States</td>\n",
              "      <td>&lt;=50K</td>\n",
              "    </tr>\n",
              "    <tr>\n",
              "      <th>2</th>\n",
              "      <td>28</td>\n",
              "      <td>Local-gov</td>\n",
              "      <td>Assoc-acdm</td>\n",
              "      <td>12</td>\n",
              "      <td>Married-civ-spouse</td>\n",
              "      <td>Protective-serv</td>\n",
              "      <td>Husband</td>\n",
              "      <td>White</td>\n",
              "      <td>Male</td>\n",
              "      <td>0</td>\n",
              "      <td>0</td>\n",
              "      <td>40</td>\n",
              "      <td>United-States</td>\n",
              "      <td>&gt;50K</td>\n",
              "    </tr>\n",
              "    <tr>\n",
              "      <th>3</th>\n",
              "      <td>44</td>\n",
              "      <td>Private</td>\n",
              "      <td>Some-college</td>\n",
              "      <td>10</td>\n",
              "      <td>Married-civ-spouse</td>\n",
              "      <td>Machine-op-inspct</td>\n",
              "      <td>Husband</td>\n",
              "      <td>Black</td>\n",
              "      <td>Male</td>\n",
              "      <td>7688</td>\n",
              "      <td>0</td>\n",
              "      <td>40</td>\n",
              "      <td>United-States</td>\n",
              "      <td>&gt;50K</td>\n",
              "    </tr>\n",
              "    <tr>\n",
              "      <th>4</th>\n",
              "      <td>18</td>\n",
              "      <td>?</td>\n",
              "      <td>Some-college</td>\n",
              "      <td>10</td>\n",
              "      <td>Never-married</td>\n",
              "      <td>?</td>\n",
              "      <td>Own-child</td>\n",
              "      <td>White</td>\n",
              "      <td>Female</td>\n",
              "      <td>0</td>\n",
              "      <td>0</td>\n",
              "      <td>30</td>\n",
              "      <td>United-States</td>\n",
              "      <td>&lt;=50K</td>\n",
              "    </tr>\n",
              "  </tbody>\n",
              "</table>\n",
              "</div>\n",
              "    <div class=\"colab-df-buttons\">\n",
              "\n",
              "  <div class=\"colab-df-container\">\n",
              "    <button class=\"colab-df-convert\" onclick=\"convertToInteractive('df-d5dfb217-987f-411d-a7e6-32e0aa577014')\"\n",
              "            title=\"Convert this dataframe to an interactive table.\"\n",
              "            style=\"display:none;\">\n",
              "\n",
              "  <svg xmlns=\"http://www.w3.org/2000/svg\" height=\"24px\" viewBox=\"0 -960 960 960\">\n",
              "    <path d=\"M120-120v-720h720v720H120Zm60-500h600v-160H180v160Zm220 220h160v-160H400v160Zm0 220h160v-160H400v160ZM180-400h160v-160H180v160Zm440 0h160v-160H620v160ZM180-180h160v-160H180v160Zm440 0h160v-160H620v160Z\"/>\n",
              "  </svg>\n",
              "    </button>\n",
              "\n",
              "  <style>\n",
              "    .colab-df-container {\n",
              "      display:flex;\n",
              "      gap: 12px;\n",
              "    }\n",
              "\n",
              "    .colab-df-convert {\n",
              "      background-color: #E8F0FE;\n",
              "      border: none;\n",
              "      border-radius: 50%;\n",
              "      cursor: pointer;\n",
              "      display: none;\n",
              "      fill: #1967D2;\n",
              "      height: 32px;\n",
              "      padding: 0 0 0 0;\n",
              "      width: 32px;\n",
              "    }\n",
              "\n",
              "    .colab-df-convert:hover {\n",
              "      background-color: #E2EBFA;\n",
              "      box-shadow: 0px 1px 2px rgba(60, 64, 67, 0.3), 0px 1px 3px 1px rgba(60, 64, 67, 0.15);\n",
              "      fill: #174EA6;\n",
              "    }\n",
              "\n",
              "    .colab-df-buttons div {\n",
              "      margin-bottom: 4px;\n",
              "    }\n",
              "\n",
              "    [theme=dark] .colab-df-convert {\n",
              "      background-color: #3B4455;\n",
              "      fill: #D2E3FC;\n",
              "    }\n",
              "\n",
              "    [theme=dark] .colab-df-convert:hover {\n",
              "      background-color: #434B5C;\n",
              "      box-shadow: 0px 1px 3px 1px rgba(0, 0, 0, 0.15);\n",
              "      filter: drop-shadow(0px 1px 2px rgba(0, 0, 0, 0.3));\n",
              "      fill: #FFFFFF;\n",
              "    }\n",
              "  </style>\n",
              "\n",
              "    <script>\n",
              "      const buttonEl =\n",
              "        document.querySelector('#df-d5dfb217-987f-411d-a7e6-32e0aa577014 button.colab-df-convert');\n",
              "      buttonEl.style.display =\n",
              "        google.colab.kernel.accessAllowed ? 'block' : 'none';\n",
              "\n",
              "      async function convertToInteractive(key) {\n",
              "        const element = document.querySelector('#df-d5dfb217-987f-411d-a7e6-32e0aa577014');\n",
              "        const dataTable =\n",
              "          await google.colab.kernel.invokeFunction('convertToInteractive',\n",
              "                                                    [key], {});\n",
              "        if (!dataTable) return;\n",
              "\n",
              "        const docLinkHtml = 'Like what you see? Visit the ' +\n",
              "          '<a target=\"_blank\" href=https://colab.research.google.com/notebooks/data_table.ipynb>data table notebook</a>'\n",
              "          + ' to learn more about interactive tables.';\n",
              "        element.innerHTML = '';\n",
              "        dataTable['output_type'] = 'display_data';\n",
              "        await google.colab.output.renderOutput(dataTable, element);\n",
              "        const docLink = document.createElement('div');\n",
              "        docLink.innerHTML = docLinkHtml;\n",
              "        element.appendChild(docLink);\n",
              "      }\n",
              "    </script>\n",
              "  </div>\n",
              "\n",
              "\n",
              "    <div id=\"df-3c4f4eb9-9a43-41ca-ab9e-1e3b558d9f82\">\n",
              "      <button class=\"colab-df-quickchart\" onclick=\"quickchart('df-3c4f4eb9-9a43-41ca-ab9e-1e3b558d9f82')\"\n",
              "                title=\"Suggest charts\"\n",
              "                style=\"display:none;\">\n",
              "\n",
              "<svg xmlns=\"http://www.w3.org/2000/svg\" height=\"24px\"viewBox=\"0 0 24 24\"\n",
              "     width=\"24px\">\n",
              "    <g>\n",
              "        <path d=\"M19 3H5c-1.1 0-2 .9-2 2v14c0 1.1.9 2 2 2h14c1.1 0 2-.9 2-2V5c0-1.1-.9-2-2-2zM9 17H7v-7h2v7zm4 0h-2V7h2v10zm4 0h-2v-4h2v4z\"/>\n",
              "    </g>\n",
              "</svg>\n",
              "      </button>\n",
              "\n",
              "<style>\n",
              "  .colab-df-quickchart {\n",
              "      --bg-color: #E8F0FE;\n",
              "      --fill-color: #1967D2;\n",
              "      --hover-bg-color: #E2EBFA;\n",
              "      --hover-fill-color: #174EA6;\n",
              "      --disabled-fill-color: #AAA;\n",
              "      --disabled-bg-color: #DDD;\n",
              "  }\n",
              "\n",
              "  [theme=dark] .colab-df-quickchart {\n",
              "      --bg-color: #3B4455;\n",
              "      --fill-color: #D2E3FC;\n",
              "      --hover-bg-color: #434B5C;\n",
              "      --hover-fill-color: #FFFFFF;\n",
              "      --disabled-bg-color: #3B4455;\n",
              "      --disabled-fill-color: #666;\n",
              "  }\n",
              "\n",
              "  .colab-df-quickchart {\n",
              "    background-color: var(--bg-color);\n",
              "    border: none;\n",
              "    border-radius: 50%;\n",
              "    cursor: pointer;\n",
              "    display: none;\n",
              "    fill: var(--fill-color);\n",
              "    height: 32px;\n",
              "    padding: 0;\n",
              "    width: 32px;\n",
              "  }\n",
              "\n",
              "  .colab-df-quickchart:hover {\n",
              "    background-color: var(--hover-bg-color);\n",
              "    box-shadow: 0 1px 2px rgba(60, 64, 67, 0.3), 0 1px 3px 1px rgba(60, 64, 67, 0.15);\n",
              "    fill: var(--button-hover-fill-color);\n",
              "  }\n",
              "\n",
              "  .colab-df-quickchart-complete:disabled,\n",
              "  .colab-df-quickchart-complete:disabled:hover {\n",
              "    background-color: var(--disabled-bg-color);\n",
              "    fill: var(--disabled-fill-color);\n",
              "    box-shadow: none;\n",
              "  }\n",
              "\n",
              "  .colab-df-spinner {\n",
              "    border: 2px solid var(--fill-color);\n",
              "    border-color: transparent;\n",
              "    border-bottom-color: var(--fill-color);\n",
              "    animation:\n",
              "      spin 1s steps(1) infinite;\n",
              "  }\n",
              "\n",
              "  @keyframes spin {\n",
              "    0% {\n",
              "      border-color: transparent;\n",
              "      border-bottom-color: var(--fill-color);\n",
              "      border-left-color: var(--fill-color);\n",
              "    }\n",
              "    20% {\n",
              "      border-color: transparent;\n",
              "      border-left-color: var(--fill-color);\n",
              "      border-top-color: var(--fill-color);\n",
              "    }\n",
              "    30% {\n",
              "      border-color: transparent;\n",
              "      border-left-color: var(--fill-color);\n",
              "      border-top-color: var(--fill-color);\n",
              "      border-right-color: var(--fill-color);\n",
              "    }\n",
              "    40% {\n",
              "      border-color: transparent;\n",
              "      border-right-color: var(--fill-color);\n",
              "      border-top-color: var(--fill-color);\n",
              "    }\n",
              "    60% {\n",
              "      border-color: transparent;\n",
              "      border-right-color: var(--fill-color);\n",
              "    }\n",
              "    80% {\n",
              "      border-color: transparent;\n",
              "      border-right-color: var(--fill-color);\n",
              "      border-bottom-color: var(--fill-color);\n",
              "    }\n",
              "    90% {\n",
              "      border-color: transparent;\n",
              "      border-bottom-color: var(--fill-color);\n",
              "    }\n",
              "  }\n",
              "</style>\n",
              "\n",
              "      <script>\n",
              "        async function quickchart(key) {\n",
              "          const quickchartButtonEl =\n",
              "            document.querySelector('#' + key + ' button');\n",
              "          quickchartButtonEl.disabled = true;  // To prevent multiple clicks.\n",
              "          quickchartButtonEl.classList.add('colab-df-spinner');\n",
              "          try {\n",
              "            const charts = await google.colab.kernel.invokeFunction(\n",
              "                'suggestCharts', [key], {});\n",
              "          } catch (error) {\n",
              "            console.error('Error during call to suggestCharts:', error);\n",
              "          }\n",
              "          quickchartButtonEl.classList.remove('colab-df-spinner');\n",
              "          quickchartButtonEl.classList.add('colab-df-quickchart-complete');\n",
              "        }\n",
              "        (() => {\n",
              "          let quickchartButtonEl =\n",
              "            document.querySelector('#df-3c4f4eb9-9a43-41ca-ab9e-1e3b558d9f82 button');\n",
              "          quickchartButtonEl.style.display =\n",
              "            google.colab.kernel.accessAllowed ? 'block' : 'none';\n",
              "        })();\n",
              "      </script>\n",
              "    </div>\n",
              "\n",
              "    </div>\n",
              "  </div>\n"
            ],
            "application/vnd.google.colaboratory.intrinsic+json": {
              "type": "dataframe",
              "variable_name": "df",
              "summary": "{\n  \"name\": \"df\",\n  \"rows\": 48842,\n  \"fields\": [\n    {\n      \"column\": \"age\",\n      \"properties\": {\n        \"dtype\": \"number\",\n        \"std\": 13,\n        \"min\": 17,\n        \"max\": 90,\n        \"num_unique_values\": 74,\n        \"samples\": [\n          18,\n          74,\n          40\n        ],\n        \"semantic_type\": \"\",\n        \"description\": \"\"\n      }\n    },\n    {\n      \"column\": \"workclass\",\n      \"properties\": {\n        \"dtype\": \"category\",\n        \"num_unique_values\": 9,\n        \"samples\": [\n          \"Without-pay\",\n          \"Local-gov\",\n          \"State-gov\"\n        ],\n        \"semantic_type\": \"\",\n        \"description\": \"\"\n      }\n    },\n    {\n      \"column\": \"education\",\n      \"properties\": {\n        \"dtype\": \"category\",\n        \"num_unique_values\": 16,\n        \"samples\": [\n          \"11th\",\n          \"HS-grad\",\n          \"Prof-school\"\n        ],\n        \"semantic_type\": \"\",\n        \"description\": \"\"\n      }\n    },\n    {\n      \"column\": \"educational-num\",\n      \"properties\": {\n        \"dtype\": \"number\",\n        \"std\": 2,\n        \"min\": 1,\n        \"max\": 16,\n        \"num_unique_values\": 16,\n        \"samples\": [\n          7,\n          9,\n          15\n        ],\n        \"semantic_type\": \"\",\n        \"description\": \"\"\n      }\n    },\n    {\n      \"column\": \"marital-status\",\n      \"properties\": {\n        \"dtype\": \"category\",\n        \"num_unique_values\": 7,\n        \"samples\": [\n          \"Never-married\",\n          \"Married-civ-spouse\",\n          \"Married-spouse-absent\"\n        ],\n        \"semantic_type\": \"\",\n        \"description\": \"\"\n      }\n    },\n    {\n      \"column\": \"occupation\",\n      \"properties\": {\n        \"dtype\": \"category\",\n        \"num_unique_values\": 15,\n        \"samples\": [\n          \"Tech-support\",\n          \"Priv-house-serv\",\n          \"Machine-op-inspct\"\n        ],\n        \"semantic_type\": \"\",\n        \"description\": \"\"\n      }\n    },\n    {\n      \"column\": \"relationship\",\n      \"properties\": {\n        \"dtype\": \"category\",\n        \"num_unique_values\": 6,\n        \"samples\": [\n          \"Own-child\",\n          \"Husband\",\n          \"Other-relative\"\n        ],\n        \"semantic_type\": \"\",\n        \"description\": \"\"\n      }\n    },\n    {\n      \"column\": \"race\",\n      \"properties\": {\n        \"dtype\": \"category\",\n        \"num_unique_values\": 5,\n        \"samples\": [\n          \"White\",\n          \"Amer-Indian-Eskimo\",\n          \"Asian-Pac-Islander\"\n        ],\n        \"semantic_type\": \"\",\n        \"description\": \"\"\n      }\n    },\n    {\n      \"column\": \"sex\",\n      \"properties\": {\n        \"dtype\": \"category\",\n        \"num_unique_values\": 2,\n        \"samples\": [\n          \"Female\",\n          \"Male\"\n        ],\n        \"semantic_type\": \"\",\n        \"description\": \"\"\n      }\n    },\n    {\n      \"column\": \"capital-gain\",\n      \"properties\": {\n        \"dtype\": \"number\",\n        \"std\": 7452,\n        \"min\": 0,\n        \"max\": 99999,\n        \"num_unique_values\": 123,\n        \"samples\": [\n          4064,\n          4787\n        ],\n        \"semantic_type\": \"\",\n        \"description\": \"\"\n      }\n    },\n    {\n      \"column\": \"capital-loss\",\n      \"properties\": {\n        \"dtype\": \"number\",\n        \"std\": 403,\n        \"min\": 0,\n        \"max\": 4356,\n        \"num_unique_values\": 99,\n        \"samples\": [\n          2238,\n          1564\n        ],\n        \"semantic_type\": \"\",\n        \"description\": \"\"\n      }\n    },\n    {\n      \"column\": \"hours-per-week\",\n      \"properties\": {\n        \"dtype\": \"number\",\n        \"std\": 12,\n        \"min\": 1,\n        \"max\": 99,\n        \"num_unique_values\": 96,\n        \"samples\": [\n          9,\n          11\n        ],\n        \"semantic_type\": \"\",\n        \"description\": \"\"\n      }\n    },\n    {\n      \"column\": \"native-country\",\n      \"properties\": {\n        \"dtype\": \"category\",\n        \"num_unique_values\": 42,\n        \"samples\": [\n          \"Canada\",\n          \"Vietnam\"\n        ],\n        \"semantic_type\": \"\",\n        \"description\": \"\"\n      }\n    },\n    {\n      \"column\": \"income\",\n      \"properties\": {\n        \"dtype\": \"category\",\n        \"num_unique_values\": 2,\n        \"samples\": [\n          \">50K\",\n          \"<=50K\"\n        ],\n        \"semantic_type\": \"\",\n        \"description\": \"\"\n      }\n    }\n  ]\n}"
            }
          },
          "metadata": {},
          "execution_count": 1
        }
      ],
      "source": [
        "# Carregar o arquivo corretamente\n",
        "import pandas as pd\n",
        "df = pd.read_csv('adult.data')\n",
        "# Mostrar as primeiras linhas\n",
        "df.head()"
      ]
    },
    {
      "cell_type": "code",
      "source": [
        "df.count()"
      ],
      "metadata": {
        "colab": {
          "base_uri": "https://localhost:8080/",
          "height": 523
        },
        "id": "9gL97Wzv3KBi",
        "outputId": "b9fda863-79d4-40b3-a980-8f1a226f3d3a"
      },
      "execution_count": 2,
      "outputs": [
        {
          "output_type": "execute_result",
          "data": {
            "text/plain": [
              "age                48842\n",
              "workclass          48842\n",
              "education          48842\n",
              "educational-num    48842\n",
              "marital-status     48842\n",
              "occupation         48842\n",
              "relationship       48842\n",
              "race               48842\n",
              "sex                48842\n",
              "capital-gain       48842\n",
              "capital-loss       48842\n",
              "hours-per-week     48842\n",
              "native-country     48842\n",
              "income             48842\n",
              "dtype: int64"
            ],
            "text/html": [
              "<div>\n",
              "<style scoped>\n",
              "    .dataframe tbody tr th:only-of-type {\n",
              "        vertical-align: middle;\n",
              "    }\n",
              "\n",
              "    .dataframe tbody tr th {\n",
              "        vertical-align: top;\n",
              "    }\n",
              "\n",
              "    .dataframe thead th {\n",
              "        text-align: right;\n",
              "    }\n",
              "</style>\n",
              "<table border=\"1\" class=\"dataframe\">\n",
              "  <thead>\n",
              "    <tr style=\"text-align: right;\">\n",
              "      <th></th>\n",
              "      <th>0</th>\n",
              "    </tr>\n",
              "  </thead>\n",
              "  <tbody>\n",
              "    <tr>\n",
              "      <th>age</th>\n",
              "      <td>48842</td>\n",
              "    </tr>\n",
              "    <tr>\n",
              "      <th>workclass</th>\n",
              "      <td>48842</td>\n",
              "    </tr>\n",
              "    <tr>\n",
              "      <th>education</th>\n",
              "      <td>48842</td>\n",
              "    </tr>\n",
              "    <tr>\n",
              "      <th>educational-num</th>\n",
              "      <td>48842</td>\n",
              "    </tr>\n",
              "    <tr>\n",
              "      <th>marital-status</th>\n",
              "      <td>48842</td>\n",
              "    </tr>\n",
              "    <tr>\n",
              "      <th>occupation</th>\n",
              "      <td>48842</td>\n",
              "    </tr>\n",
              "    <tr>\n",
              "      <th>relationship</th>\n",
              "      <td>48842</td>\n",
              "    </tr>\n",
              "    <tr>\n",
              "      <th>race</th>\n",
              "      <td>48842</td>\n",
              "    </tr>\n",
              "    <tr>\n",
              "      <th>sex</th>\n",
              "      <td>48842</td>\n",
              "    </tr>\n",
              "    <tr>\n",
              "      <th>capital-gain</th>\n",
              "      <td>48842</td>\n",
              "    </tr>\n",
              "    <tr>\n",
              "      <th>capital-loss</th>\n",
              "      <td>48842</td>\n",
              "    </tr>\n",
              "    <tr>\n",
              "      <th>hours-per-week</th>\n",
              "      <td>48842</td>\n",
              "    </tr>\n",
              "    <tr>\n",
              "      <th>native-country</th>\n",
              "      <td>48842</td>\n",
              "    </tr>\n",
              "    <tr>\n",
              "      <th>income</th>\n",
              "      <td>48842</td>\n",
              "    </tr>\n",
              "  </tbody>\n",
              "</table>\n",
              "</div><br><label><b>dtype:</b> int64</label>"
            ]
          },
          "metadata": {},
          "execution_count": 2
        }
      ]
    },
    {
      "cell_type": "code",
      "source": [
        "import pandas as pd\n",
        "df = pd.read_csv('adult.data')\n",
        "df.head()\n",
        "# Mostrar distribuição das classes (income)\n",
        "print(df['income'].value_counts())"
      ],
      "metadata": {
        "colab": {
          "base_uri": "https://localhost:8080/"
        },
        "id": "Q067F5ue3P7R",
        "outputId": "f0c358a7-8661-400d-f8d1-6f116ac40cd0"
      },
      "execution_count": 6,
      "outputs": [
        {
          "output_type": "stream",
          "name": "stdout",
          "text": [
            "income\n",
            "<=50K    37155\n",
            ">50K     11687\n",
            "Name: count, dtype: int64\n"
          ]
        }
      ]
    },
    {
      "cell_type": "code",
      "source": [
        "# Plotar gráfico\n",
        "import matplotlib.pyplot as plt\n",
        "import pandas as pd\n",
        "df = pd.read_csv('adult.data')\n",
        "df.head()\n",
        "# Definir cores\n",
        "df['income'].value_counts().plot(kind='bar', color=['skyblue', 'salmon'])\n",
        "# Definir título\n",
        "plt.title('Distribuição da variável income')\n",
        "# Definir x e y\n",
        "plt.xlabel('Classe')\n",
        "plt.ylabel('Quantidade')\n",
        "\n",
        "plt.xticks(rotation=0)\n",
        "plt.show()"
      ],
      "metadata": {
        "colab": {
          "base_uri": "https://localhost:8080/",
          "height": 472
        },
        "id": "NtSs59Jt5wew",
        "outputId": "dbf296c7-18e2-4091-c746-e7e95da6d5b6"
      },
      "execution_count": 8,
      "outputs": [
        {
          "output_type": "display_data",
          "data": {
            "text/plain": [
              "<Figure size 640x480 with 1 Axes>"
            ],
            "image/png": "[encoded data removed]"
          },
          "metadata": {}
        }
      ]
    },
    {
      "cell_type": "code",
      "source": [
        "# Mostrar distribuição das classes por Nível de Escolaridade\n",
        "print(df['education'].value_counts())"
      ],
      "metadata": {
        "colab": {
          "base_uri": "https://localhost:8080/"
        },
        "id": "qF7Wr4Aj3P-c",
        "outputId": "338b213f-7506-4391-fd5e-84ff683326b3"
      },
      "execution_count": 7,
      "outputs": [
        {
          "output_type": "stream",
          "name": "stdout",
          "text": [
            "education\n",
            "HS-grad         15784\n",
            "Some-college    10878\n",
            "Bachelors        8025\n",
            "Masters          2657\n",
            "Assoc-voc        2061\n",
            "11th             1812\n",
            "Assoc-acdm       1601\n",
            "10th             1389\n",
            "7th-8th           955\n",
            "Prof-school       834\n",
            "9th               756\n",
            "12th              657\n",
            "Doctorate         594\n",
            "5th-6th           509\n",
            "1st-4th           247\n",
            "Preschool          83\n",
            "Name: count, dtype: int64\n"
          ]
        }
      ]
    },
    {
      "cell_type": "code",
      "source": [
        "import pandas as pd\n",
        "\n",
        "df = pd.read_csv('adult.data')\n",
        "\n",
        "# Relação entre age e income (média de idade por classe)\n",
        "print(\"Média de idade por classe de income:\")\n",
        "print(df.groupby('income')['age'].mean())\n",
        "\n",
        "# Distribuição de sex por income\n",
        "print(\"\\nDistribuição de sexo por classe de income:\")\n",
        "print(df.groupby('income')['sex'].value_counts())\n",
        "\n",
        "# Distribuição de raça por income\n",
        "print(\"\\nDistribuição de raça por classe de income:\")\n",
        "print(df.groupby('income')['race'].value_counts())\n"
      ],
      "metadata": {
        "colab": {
          "base_uri": "https://localhost:8080/"
        },
        "id": "56munRY-5whI",
        "outputId": "173b28a1-1dee-4a77-d165-f79a393bdfae"
      },
      "execution_count": 9,
      "outputs": [
        {
          "output_type": "stream",
          "name": "stdout",
          "text": [
            "Média de idade por classe de income:\n",
            "income\n",
            "<=50K    36.872184\n",
            ">50K     44.275178\n",
            "Name: age, dtype: float64\n",
            "\n",
            "Distribuição de sexo por classe de income:\n",
            "income  sex   \n",
            "<=50K   Male      22732\n",
            "        Female    14423\n",
            ">50K    Male       9918\n",
            "        Female     1769\n",
            "Name: count, dtype: int64\n",
            "\n",
            "Distribuição de raça por classe de income:\n",
            "income  race              \n",
            "<=50K   White                 31155\n",
            "        Black                  4119\n",
            "        Asian-Pac-Islander     1110\n",
            "        Amer-Indian-Eskimo      415\n",
            "        Other                   356\n",
            ">50K    White                 10607\n",
            "        Black                   566\n",
            "        Asian-Pac-Islander      409\n",
            "        Amer-Indian-Eskimo       55\n",
            "        Other                    50\n",
            "Name: count, dtype: int64\n"
          ]
        }
      ]
    },
    {
      "cell_type": "code",
      "source": [
        "import pandas as pd\n",
        "\n",
        "df = pd.read_csv('adult.data')\n",
        "\n",
        "# Média e desvio padrão de idade por classe de income\n",
        "# .agg para aplicar múltiplas funções de agregação\n",
        "print(\"\\nMédia e desvio padrão de idade por classe de income:\")\n",
        "print(df.groupby('income')['age'].agg(idade_media='mean', desvio='std'))\n",
        "\n",
        "# Proporção(porcentagem) de sexo por classe de income\n",
        "print(\"\\nProporção de sexo por classe de income:\")\n",
        "\n",
        "# Calcula a porcentagem de cada sexo dentro de cada classe de renda\n",
        "# (value_counts com normalize=True retorna a frequência relativa em cada grupo)\n",
        "# normalize=True faz retornar uma porcentagem ao inves de contagem\n",
        "# .round(n) determina quantas casas decimais serao impressas\n",
        "sexo_proporcao = df.groupby('income')['sex'].value_counts(normalize=True).round(2)\n",
        "print(sexo_proporcao)"
      ],
      "metadata": {
        "colab": {
          "base_uri": "https://localhost:8080/"
        },
        "id": "CqF36IKG9XOx",
        "outputId": "0d1df264-a4e2-4747-bc6e-56ed3ec2843f"
      },
      "execution_count": 16,
      "outputs": [
        {
          "output_type": "stream",
          "name": "stdout",
          "text": [
            "\n",
            "Média e desvio padrão de idade por classe de income:\n",
            "        idade_media     desvio\n",
            "income                        \n",
            "<=50K     36.872184  14.104118\n",
            ">50K      44.275178  10.558983\n",
            "\n",
            "Proporção de sexo por classe de income:\n",
            "income  sex   \n",
            "<=50K   Male      0.61\n",
            "        Female    0.39\n",
            ">50K    Male      0.85\n",
            "        Female    0.15\n",
            "Name: proportion, dtype: float64\n"
          ]
        }
      ]
    },
    {
      "cell_type": "code",
      "source": [
        "import pandas as pd\n",
        "df = pd.read_csv('adult.data')\n",
        "\n",
        "df_encoded = pd.get_dummies(df, columns=['sex'], prefix='sex')\n",
        "\n",
        "print(df_encoded)"
      ],
      "metadata": {
        "colab": {
          "base_uri": "https://localhost:8080/"
        },
        "id": "KeztgRPyFbfh",
        "outputId": "568c2030-91c4-4eed-9018-06c7beb5a456"
      },
      "execution_count": 33,
      "outputs": [
        {
          "output_type": "stream",
          "name": "stdout",
          "text": [
            "       age     workclass     education  educational-num      marital-status  \\\n",
            "0       25       Private          11th                7       Never-married   \n",
            "1       38       Private       HS-grad                9  Married-civ-spouse   \n",
            "2       28     Local-gov    Assoc-acdm               12  Married-civ-spouse   \n",
            "3       44       Private  Some-college               10  Married-civ-spouse   \n",
            "4       18             ?  Some-college               10       Never-married   \n",
            "...    ...           ...           ...              ...                 ...   \n",
            "48837   27       Private    Assoc-acdm               12  Married-civ-spouse   \n",
            "48838   40       Private       HS-grad                9  Married-civ-spouse   \n",
            "48839   58       Private       HS-grad                9             Widowed   \n",
            "48840   22       Private       HS-grad                9       Never-married   \n",
            "48841   52  Self-emp-inc       HS-grad                9  Married-civ-spouse   \n",
            "\n",
            "              occupation relationship   race  capital-gain  capital-loss  \\\n",
            "0      Machine-op-inspct    Own-child  Black             0             0   \n",
            "1        Farming-fishing      Husband  White             0             0   \n",
            "2        Protective-serv      Husband  White             0             0   \n",
            "3      Machine-op-inspct      Husband  Black          7688             0   \n",
            "4                      ?    Own-child  White             0             0   \n",
            "...                  ...          ...    ...           ...           ...   \n",
            "48837       Tech-support         Wife  White             0             0   \n",
            "48838  Machine-op-inspct      Husband  White             0             0   \n",
            "48839       Adm-clerical    Unmarried  White             0             0   \n",
            "48840       Adm-clerical    Own-child  White             0             0   \n",
            "48841    Exec-managerial         Wife  White         15024             0   \n",
            "\n",
            "       hours-per-week native-country income  sex_Female  sex_Male  \n",
            "0                  40  United-States  <=50K       False      True  \n",
            "1                  50  United-States  <=50K       False      True  \n",
            "2                  40  United-States   >50K       False      True  \n",
            "3                  40  United-States   >50K       False      True  \n",
            "4                  30  United-States  <=50K        True     False  \n",
            "...               ...            ...    ...         ...       ...  \n",
            "48837              38  United-States  <=50K        True     False  \n",
            "48838              40  United-States   >50K       False      True  \n",
            "48839              40  United-States  <=50K        True     False  \n",
            "48840              20  United-States  <=50K       False      True  \n",
            "48841              40  United-States   >50K        True     False  \n",
            "\n",
            "[48842 rows x 15 columns]\n"
          ]
        }
      ]
    },
    {
      "cell_type": "code",
      "source": [
        "import pandas as pd\n",
        "df = pd.read_csv('adult.data')\n",
        "df_encoded = pd.get_dummies(df, columns=['sex'], prefix='sex')\n",
        "\n",
        "# Retornar apenas as 10 primeiras linhas\n",
        "print(df.head(10))"
      ],
      "metadata": {
        "colab": {
          "base_uri": "https://localhost:8080/"
        },
        "id": "K3jF4OAOIOa_",
        "outputId": "8b0c2307-f22d-4045-d25f-cb34fc4ed26c"
      },
      "execution_count": 35,
      "outputs": [
        {
          "output_type": "stream",
          "name": "stdout",
          "text": [
            "   age         workclass     education  educational-num      marital-status  \\\n",
            "0   25           Private          11th                7       Never-married   \n",
            "1   38           Private       HS-grad                9  Married-civ-spouse   \n",
            "2   28         Local-gov    Assoc-acdm               12  Married-civ-spouse   \n",
            "3   44           Private  Some-college               10  Married-civ-spouse   \n",
            "4   18                 ?  Some-college               10       Never-married   \n",
            "5   34           Private          10th                6       Never-married   \n",
            "6   29                 ?       HS-grad                9       Never-married   \n",
            "7   63  Self-emp-not-inc   Prof-school               15  Married-civ-spouse   \n",
            "8   24           Private  Some-college               10       Never-married   \n",
            "9   55           Private       7th-8th                4  Married-civ-spouse   \n",
            "\n",
            "          occupation   relationship   race     sex  capital-gain  \\\n",
            "0  Machine-op-inspct      Own-child  Black    Male             0   \n",
            "1    Farming-fishing        Husband  White    Male             0   \n",
            "2    Protective-serv        Husband  White    Male             0   \n",
            "3  Machine-op-inspct        Husband  Black    Male          7688   \n",
            "4                  ?      Own-child  White  Female             0   \n",
            "5      Other-service  Not-in-family  White    Male             0   \n",
            "6                  ?      Unmarried  Black    Male             0   \n",
            "7     Prof-specialty        Husband  White    Male          3103   \n",
            "8      Other-service      Unmarried  White  Female             0   \n",
            "9       Craft-repair        Husband  White    Male             0   \n",
            "\n",
            "   capital-loss  hours-per-week native-country income  \n",
            "0             0              40  United-States  <=50K  \n",
            "1             0              50  United-States  <=50K  \n",
            "2             0              40  United-States   >50K  \n",
            "3             0              40  United-States   >50K  \n",
            "4             0              30  United-States  <=50K  \n",
            "5             0              30  United-States  <=50K  \n",
            "6             0              40  United-States  <=50K  \n",
            "7             0              32  United-States   >50K  \n",
            "8             0              40  United-States  <=50K  \n",
            "9             0              10  United-States  <=50K  \n"
          ]
        }
      ]
    },
    {
      "cell_type": "code",
      "source": [
        "import pandas as pd\n",
        "df = pd.read_csv('adult.data')\n",
        "\n",
        "# Convertendo 'sex' e 'income' em variáveis binárias com get_dummies\n",
        "df_dummies = pd.get_dummies(df, columns=['sex', 'income'])\n",
        "\n",
        "# Exibindo o resultado (apenas as colunas selecionadas irao retornar True/False)\n",
        "print(df_dummies)"
      ],
      "metadata": {
        "colab": {
          "base_uri": "https://localhost:8080/"
        },
        "id": "WckCLexaI4tJ",
        "outputId": "2d89b70f-c47e-478b-944d-37e4746206cb"
      },
      "execution_count": 38,
      "outputs": [
        {
          "output_type": "stream",
          "name": "stdout",
          "text": [
            "       age     workclass     education  educational-num      marital-status  \\\n",
            "0       25       Private          11th                7       Never-married   \n",
            "1       38       Private       HS-grad                9  Married-civ-spouse   \n",
            "2       28     Local-gov    Assoc-acdm               12  Married-civ-spouse   \n",
            "3       44       Private  Some-college               10  Married-civ-spouse   \n",
            "4       18             ?  Some-college               10       Never-married   \n",
            "...    ...           ...           ...              ...                 ...   \n",
            "48837   27       Private    Assoc-acdm               12  Married-civ-spouse   \n",
            "48838   40       Private       HS-grad                9  Married-civ-spouse   \n",
            "48839   58       Private       HS-grad                9             Widowed   \n",
            "48840   22       Private       HS-grad                9       Never-married   \n",
            "48841   52  Self-emp-inc       HS-grad                9  Married-civ-spouse   \n",
            "\n",
            "              occupation relationship   race  capital-gain  capital-loss  \\\n",
            "0      Machine-op-inspct    Own-child  Black             0             0   \n",
            "1        Farming-fishing      Husband  White             0             0   \n",
            "2        Protective-serv      Husband  White             0             0   \n",
            "3      Machine-op-inspct      Husband  Black          7688             0   \n",
            "4                      ?    Own-child  White             0             0   \n",
            "...                  ...          ...    ...           ...           ...   \n",
            "48837       Tech-support         Wife  White             0             0   \n",
            "48838  Machine-op-inspct      Husband  White             0             0   \n",
            "48839       Adm-clerical    Unmarried  White             0             0   \n",
            "48840       Adm-clerical    Own-child  White             0             0   \n",
            "48841    Exec-managerial         Wife  White         15024             0   \n",
            "\n",
            "       hours-per-week native-country  sex_Female  sex_Male  income_<=50K  \\\n",
            "0                  40  United-States       False      True          True   \n",
            "1                  50  United-States       False      True          True   \n",
            "2                  40  United-States       False      True         False   \n",
            "3                  40  United-States       False      True         False   \n",
            "4                  30  United-States        True     False          True   \n",
            "...               ...            ...         ...       ...           ...   \n",
            "48837              38  United-States        True     False          True   \n",
            "48838              40  United-States       False      True         False   \n",
            "48839              40  United-States        True     False          True   \n",
            "48840              20  United-States       False      True          True   \n",
            "48841              40  United-States        True     False         False   \n",
            "\n",
            "       income_>50K  \n",
            "0            False  \n",
            "1            False  \n",
            "2             True  \n",
            "3             True  \n",
            "4            False  \n",
            "...            ...  \n",
            "48837        False  \n",
            "48838         True  \n",
            "48839        False  \n",
            "48840        False  \n",
            "48841         True  \n",
            "\n",
            "[48842 rows x 16 columns]\n"
          ]
        }
      ]
    },
    {
      "cell_type": "markdown",
      "source": [
        "# Verificação e Análise de Dados"
      ],
      "metadata": {
        "id": "AGtXQUV3B56W"
      }
    },
    {
      "cell_type": "code",
      "source": [
        "# Carregar o arquivo corretamente\n",
        "import pandas as pd\n",
        "df = pd.read_csv('adult.data')\n",
        "\n",
        "# Verificar se existem dados missing\n",
        "print(df.isnull().sum())"
      ],
      "metadata": {
        "colab": {
          "base_uri": "https://localhost:8080/"
        },
        "id": "KTLyM2DSBVCi",
        "outputId": "82015997-e2fa-4adb-f450-3cb7b182da85"
      },
      "execution_count": 17,
      "outputs": [
        {
          "output_type": "stream",
          "name": "stdout",
          "text": [
            "age                0\n",
            "workclass          0\n",
            "education          0\n",
            "educational-num    0\n",
            "marital-status     0\n",
            "occupation         0\n",
            "relationship       0\n",
            "race               0\n",
            "sex                0\n",
            "capital-gain       0\n",
            "capital-loss       0\n",
            "hours-per-week     0\n",
            "native-country     0\n",
            "income             0\n",
            "dtype: int64\n"
          ]
        }
      ]
    },
    {
      "cell_type": "code",
      "source": [
        "import pandas as pd\n",
        "df = pd.read_csv('adult.data')\n",
        "\n",
        "# Cria uma cópia do dados para não modificar o original\n",
        "df_label = df.copy()\n",
        "\n",
        "# Seleciona colunas categóricas\n",
        "colunas_categoricas = df_label.select_dtypes(include=['object']).columns\n",
        "\n",
        "# OneHotEncoding (gera colunas binárias para cada categoria)\n",
        "df_encoded = pd.get_dummies(df, columns=colunas_categoricas)\n",
        "\n",
        "# Exibe as primeiras linhas do novo DataFrame\n",
        "print(df_encoded.head())\n"
      ],
      "metadata": {
        "colab": {
          "base_uri": "https://localhost:8080/"
        },
        "id": "x1AGxtNLCbA0",
        "outputId": "d114f043-a2ad-4c6f-cd2c-f4d81ccbe61d"
      },
      "execution_count": 20,
      "outputs": [
        {
          "output_type": "stream",
          "name": "stdout",
          "text": [
            "   age  educational-num  capital-gain  capital-loss  hours-per-week  \\\n",
            "0   25                7             0             0              40   \n",
            "1   38                9             0             0              50   \n",
            "2   28               12             0             0              40   \n",
            "3   44               10          7688             0              40   \n",
            "4   18               10             0             0              30   \n",
            "\n",
            "   workclass_?  workclass_Federal-gov  workclass_Local-gov  \\\n",
            "0        False                  False                False   \n",
            "1        False                  False                False   \n",
            "2        False                  False                 True   \n",
            "3        False                  False                False   \n",
            "4         True                  False                False   \n",
            "\n",
            "   workclass_Never-worked  workclass_Private  ...  native-country_Scotland  \\\n",
            "0                   False               True  ...                    False   \n",
            "1                   False               True  ...                    False   \n",
            "2                   False              False  ...                    False   \n",
            "3                   False               True  ...                    False   \n",
            "4                   False              False  ...                    False   \n",
            "\n",
            "   native-country_South  native-country_Taiwan  native-country_Thailand  \\\n",
            "0                 False                  False                    False   \n",
            "1                 False                  False                    False   \n",
            "2                 False                  False                    False   \n",
            "3                 False                  False                    False   \n",
            "4                 False                  False                    False   \n",
            "\n",
            "   native-country_Trinadad&Tobago  native-country_United-States  \\\n",
            "0                           False                          True   \n",
            "1                           False                          True   \n",
            "2                           False                          True   \n",
            "3                           False                          True   \n",
            "4                           False                          True   \n",
            "\n",
            "   native-country_Vietnam  native-country_Yugoslavia  income_<=50K  \\\n",
            "0                   False                      False          True   \n",
            "1                   False                      False          True   \n",
            "2                   False                      False         False   \n",
            "3                   False                      False         False   \n",
            "4                   False                      False          True   \n",
            "\n",
            "   income_>50K  \n",
            "0        False  \n",
            "1        False  \n",
            "2         True  \n",
            "3         True  \n",
            "4        False  \n",
            "\n",
            "[5 rows x 109 columns]\n"
          ]
        }
      ]
    },
    {
      "cell_type": "markdown",
      "source": [
        "Utilizar o OneHotEncoder para transformar as variáveis categóricas em colunas binárias (0 ou 1).\n",
        "Essa técnica é ideal para variáveis sem ordem (como sex, race, workclass), já que ela não cria uma ordem entre as categorias, o que pode acontecer com o LabelEncoder.\n",
        "O OneHotEncoder cria uma coluna para cada categoria dentro de uma variável, representando a presença de uma categoria com 1 e a ausência com 0.\n",
        "Por exemplo, a coluna sex pode ser dividida em duas novas colunas: sex_Male e sex_Female, com valores 1 ou 0."
      ],
      "metadata": {
        "id": "Y3GslTtxEvzU"
      }
    },
    {
      "cell_type": "code",
      "source": [
        "import pandas as pd\n",
        "df = pd.read_csv('adult.data')\n",
        "\n",
        "# Aplicar o One-Hot Encoding apenas na coluna 'sex'\n",
        "df_encoded = pd.get_dummies(df, columns=['sex'], drop_first=True)\n",
        "\n",
        "print(df_encoded.head())\n",
        "# A coluna sex_Female é eliminada, pois a informação sobre o sexo de uma pessoa está completamente\n",
        "# representada pela presença de sex_Male (sendo 1 para \"Male\" e 0 para \"Female\")"
      ],
      "metadata": {
        "colab": {
          "base_uri": "https://localhost:8080/"
        },
        "id": "2QIBND0IKk0G",
        "outputId": "372f7e82-e0c7-4a3c-e935-9879da0e5a97"
      },
      "execution_count": 39,
      "outputs": [
        {
          "output_type": "stream",
          "name": "stdout",
          "text": [
            "   age  workclass     education  educational-num      marital-status  \\\n",
            "0   25    Private          11th                7       Never-married   \n",
            "1   38    Private       HS-grad                9  Married-civ-spouse   \n",
            "2   28  Local-gov    Assoc-acdm               12  Married-civ-spouse   \n",
            "3   44    Private  Some-college               10  Married-civ-spouse   \n",
            "4   18          ?  Some-college               10       Never-married   \n",
            "\n",
            "          occupation relationship   race  capital-gain  capital-loss  \\\n",
            "0  Machine-op-inspct    Own-child  Black             0             0   \n",
            "1    Farming-fishing      Husband  White             0             0   \n",
            "2    Protective-serv      Husband  White             0             0   \n",
            "3  Machine-op-inspct      Husband  Black          7688             0   \n",
            "4                  ?    Own-child  White             0             0   \n",
            "\n",
            "   hours-per-week native-country income  sex_Male  \n",
            "0              40  United-States  <=50K      True  \n",
            "1              50  United-States  <=50K      True  \n",
            "2              40  United-States   >50K      True  \n",
            "3              40  United-States   >50K      True  \n",
            "4              30  United-States  <=50K     False  \n"
          ]
        }
      ]
    },
    {
      "cell_type": "code",
      "source": [
        "# Importar LabelEncoder (scikit-learn)\n",
        "from sklearn.preprocessing import LabelEncoder\n",
        "\n",
        "# Cria uma cópia do dados para não modificar o original\n",
        "df_label = df.copy()\n",
        "\n",
        "# Seleciona colunas categóricas\n",
        "colunas_categoricas = df_label.select_dtypes(include=['object']).columns\n",
        "\n",
        "# Aplica LabelEncoder em cada coluna categórica\n",
        "le = LabelEncoder()\n",
        "for col in colunas_categoricas:\n",
        "    df_label[col] = le.fit_transform(df_label[col])\n",
        "\n",
        "# Exibe as primeiras linhas do DataFrame transformado\n",
        "print(df_label.head())\n"
      ],
      "metadata": {
        "colab": {
          "base_uri": "https://localhost:8080/"
        },
        "id": "ykTDZPDVC7kn",
        "outputId": "16f1ccb6-de9a-4c05-cb01-6c85373c523f"
      },
      "execution_count": 19,
      "outputs": [
        {
          "output_type": "stream",
          "name": "stdout",
          "text": [
            "   age  workclass  education  educational-num  marital-status  occupation  \\\n",
            "0   25          4          1                7               4           7   \n",
            "1   38          4         11                9               2           5   \n",
            "2   28          2          7               12               2          11   \n",
            "3   44          4         15               10               2           7   \n",
            "4   18          0         15               10               4           0   \n",
            "\n",
            "   relationship  race  sex  capital-gain  capital-loss  hours-per-week  \\\n",
            "0             3     2    1             0             0              40   \n",
            "1             0     4    1             0             0              50   \n",
            "2             0     4    1             0             0              40   \n",
            "3             0     2    1          7688             0              40   \n",
            "4             3     4    0             0             0              30   \n",
            "\n",
            "   native-country  income  \n",
            "0              39       0  \n",
            "1              39       0  \n",
            "2              39       1  \n",
            "3              39       1  \n",
            "4              39       0  \n"
          ]
        }
      ]
    },
    {
      "cell_type": "markdown",
      "source": [
        "Utilizar o LabelEncoder para transformar variáveis categóricas em valores numéricos inteiros.\n",
        "Essa abordagem é simples e eficiente, mas deve ser usada com cuidado: ela atribui um número a cada categoria, o que pode induzir uma ordem que não existe.\n",
        "Portanto, o LabelEncoder é mais adequado quando as categorias têm uma relação ordinal (o que não é o caso de colunas como sex ou race), mas pode ser aceito se o objetivo for apenas converter os dados para treino inicial ou como passo prévio para outros métodos."
      ],
      "metadata": {
        "id": "1eCAk98yEck-"
      }
    },
    {
      "cell_type": "markdown",
      "source": [
        "# Pré-processamento de Dados"
      ],
      "metadata": {
        "id": "RnAre8OrJ1xp"
      }
    },
    {
      "cell_type": "code",
      "source": [
        "import pandas as pd\n",
        "# MinMaxScaler para normalização e StandardScaler para padronização\n",
        "from sklearn.preprocessing import MinMaxScaler, StandardScaler\n",
        "\n",
        "df = pd.read_csv('adult.data')\n",
        "\n",
        "# Selecionar as colunas numéricas para normalização ou padronização\n",
        "colunas_numericas = df.select_dtypes(include=['int64', 'float64']).columns\n",
        "\n",
        "# Aplicar a Normalização (MinMaxScaler) nos dados numéricos\n",
        "scaler = MinMaxScaler()\n",
        "df_normalizado = df.copy()\n",
        "df_normalizado[colunas_numericas] = scaler.fit_transform(df[colunas_numericas])\n",
        "# A função fit() aprende a transformação com base nos dados e a transform()\n",
        "# aplica a transformação aos dados. O resultado é um conjunto de dados normalizados.\n",
        "\n",
        "print(df_normalizado.head())"
      ],
      "metadata": {
        "colab": {
          "base_uri": "https://localhost:8080/"
        },
        "id": "sp3EAgFRJ3wo",
        "outputId": "e3b51a35-26d2-4c54-f302-f13f61b67a82"
      },
      "execution_count": 40,
      "outputs": [
        {
          "output_type": "stream",
          "name": "stdout",
          "text": [
            "        age  workclass     education  educational-num      marital-status  \\\n",
            "0  0.109589    Private          11th         0.400000       Never-married   \n",
            "1  0.287671    Private       HS-grad         0.533333  Married-civ-spouse   \n",
            "2  0.150685  Local-gov    Assoc-acdm         0.733333  Married-civ-spouse   \n",
            "3  0.369863    Private  Some-college         0.600000  Married-civ-spouse   \n",
            "4  0.013699          ?  Some-college         0.600000       Never-married   \n",
            "\n",
            "          occupation relationship   race     sex  capital-gain  capital-loss  \\\n",
            "0  Machine-op-inspct    Own-child  Black    Male      0.000000           0.0   \n",
            "1    Farming-fishing      Husband  White    Male      0.000000           0.0   \n",
            "2    Protective-serv      Husband  White    Male      0.000000           0.0   \n",
            "3  Machine-op-inspct      Husband  Black    Male      0.076881           0.0   \n",
            "4                  ?    Own-child  White  Female      0.000000           0.0   \n",
            "\n",
            "   hours-per-week native-country income  \n",
            "0        0.397959  United-States  <=50K  \n",
            "1        0.500000  United-States  <=50K  \n",
            "2        0.397959  United-States   >50K  \n",
            "3        0.397959  United-States   >50K  \n",
            "4        0.295918  United-States  <=50K  \n"
          ]
        }
      ]
    },
    {
      "cell_type": "markdown",
      "source": [
        "**MinMaxScaler (Normalização):**\n",
        "\n",
        "**O que faz:** Transforma os dados para que fiquem em um intervalo entre 0 e 1.\n",
        "\n",
        "**Quando usar:** Ideal para quando você deseja garantir que todas as variáveis estejam no mesmo intervalo, especialmente se os dados não tiverem uma distribuição normal e você estiver utilizando modelos baseados em distâncias (como KNN, SVM, redes neurais, etc.).\n",
        "\n",
        "**Vantagem:** Fácil de entender e aplicar, funciona bem quando você sabe que as variáveis devem ter a mesma escala.\n",
        "\n",
        "A normalização usando o **MinMaxScaler** é uma técnica muito eficaz para transformar os dados para o intervalo entre 0 e 1, o que é útil quando as variáveis possuem diferentes escalas e o modelo de aprendizado de máquina que você irá aplicar depende da distância entre as amostras, como no caso de KNN e redes neurais. Isso ajuda a garantir que nenhuma variável \"dominante\" influencie mais o modelo devido à sua escala maior.\n"
      ],
      "metadata": {
        "id": "Nu4W0i2gPkCr"
      }
    },
    {
      "cell_type": "code",
      "source": [
        "import pandas as pd\n",
        "# MinMaxScaler para normalização e StandardScaler para padronização\n",
        "from sklearn.preprocessing import MinMaxScaler, StandardScaler\n",
        "\n",
        "df = pd.read_csv('adult.data')\n",
        "\n",
        "# Selecionar as colunas numéricas para normalização ou padronização\n",
        "colunas_numericas = df.select_dtypes(include=['int64', 'float64']).columns\n",
        "\n",
        "# Aplicar a Padronização (StandardScaler) nos dados numéricos\n",
        "scaler = StandardScaler()\n",
        "df_padronizacao = df.copy()\n",
        "df_padronizacao[colunas_numericas] = scaler.fit_transform(df[colunas_numericas])\n",
        "# A função fit() aprende a transformação com base nos dados e a transform()\n",
        "# aplica a transformação aos dados. O resultado é um conjunto de dados padronizados.\n",
        "\n",
        "print(df_padronizacao.head())"
      ],
      "metadata": {
        "colab": {
          "base_uri": "https://localhost:8080/"
        },
        "id": "xOLaY-rbMi70",
        "outputId": "b9ea3181-147f-4174-c61e-77e4dc7fbe39"
      },
      "execution_count": 42,
      "outputs": [
        {
          "output_type": "stream",
          "name": "stdout",
          "text": [
            "        age  workclass     education  educational-num      marital-status  \\\n",
            "0 -0.995129    Private          11th        -1.197259       Never-married   \n",
            "1 -0.046942    Private       HS-grad        -0.419335  Married-civ-spouse   \n",
            "2 -0.776316  Local-gov    Assoc-acdm         0.747550  Married-civ-spouse   \n",
            "3  0.390683    Private  Some-college        -0.030373  Married-civ-spouse   \n",
            "4 -1.505691          ?  Some-college        -0.030373       Never-married   \n",
            "\n",
            "          occupation relationship   race     sex  capital-gain  capital-loss  \\\n",
            "0  Machine-op-inspct    Own-child  Black    Male     -0.144804     -0.217127   \n",
            "1    Farming-fishing      Husband  White    Male     -0.144804     -0.217127   \n",
            "2    Protective-serv      Husband  White    Male     -0.144804     -0.217127   \n",
            "3  Machine-op-inspct      Husband  Black    Male      0.886874     -0.217127   \n",
            "4                  ?    Own-child  White  Female     -0.144804     -0.217127   \n",
            "\n",
            "   hours-per-week native-country income  \n",
            "0       -0.034087  United-States  <=50K  \n",
            "1        0.772930  United-States  <=50K  \n",
            "2       -0.034087  United-States   >50K  \n",
            "3       -0.034087  United-States   >50K  \n",
            "4       -0.841104  United-States  <=50K  \n"
          ]
        }
      ]
    },
    {
      "cell_type": "markdown",
      "source": [
        "Por que aparecem números negativos?\n",
        "A padronização transforma os dados usando a seguinte fórmula:\n",
        "\n",
        "`𝑧 = (𝑥−𝜇) / 𝜎`\n",
        "\n",
        "Onde:\n",
        "\n",
        "𝑥  é o valor original,\n",
        "\n",
        "𝜇  é a média da coluna,\n",
        "\n",
        "𝜎  é o desvio padrão da coluna.\n",
        "\n",
        "\n",
        "O resultado é que:\n",
        "\n",
        "Os dados passam a ter média 0 e desvio padrão 1.\n",
        "\n",
        "Valores menores que a média se tornam negativos.\n",
        "\n",
        "Valores maiores que a média se tornam positivos.\n",
        "\n",
        "\n",
        "age = -0.995129  → pessoa mais jovem que a média\n",
        "\n",
        "age =  0.390683  → pessoa mais velha que a média\n"
      ],
      "metadata": {
        "id": "H9NOiL7rNKOn"
      }
    },
    {
      "cell_type": "markdown",
      "source": [
        "Observação:\n",
        "\n",
        "| Scaler usado       | O que `fit_transform()` faz                       | Tipo de resultado         |\n",
        "| ------------------ | ------------------------------------------------- | ------------------------- |\n",
        "| `MinMaxScaler()`   | Escala os dados para um intervalo (padrão: 0 a 1) | **Normalizado**           |\n",
        "| `StandardScaler()` | Centraliza os dados (média 0, desvio padrão 1)    | **Padronizado**           |\n",
        "| `RobustScaler()`   | Usa mediana e intervalo interquartil              | **Padronizado (robusto)** |\n"
      ],
      "metadata": {
        "id": "e4_7wGA6PPES"
      }
    },
    {
      "cell_type": "markdown",
      "source": [
        "**StandardScaler (Padronização):**\n",
        "\n",
        "**O que faz:** Subtrai a média e divide pelo desvio padrão de cada variável, resultando em dados com média 0 e desvio padrão 1.\n",
        "\n",
        "**Quando usar:** Ideal para quando seus dados são aproximadamente distribuídos normalmente. Funciona bem com modelos como Regressão Linear, K-means, PCA (Análise de Componentes Principais) e modelos de redes neurais.\n",
        "\n",
        "**Vantagem:** Não é afetado por outliers, porque a escala é baseada em uma distribuição normal.\n",
        "\n",
        "Se seus dados seguem uma distribuição normal (ou aproximadamente normal), e você vai usar algoritmos como Regressão Linear ou PCA, então a padronização seria a melhor escolha. Ela ajuda a fazer com que os dados fiquem com média 0 e desvio padrão 1, o que é esperado por muitos algoritmos de aprendizado de máquina que fazem suposições sobre a distribuição dos dados."
      ],
      "metadata": {
        "id": "QJHWdCEUQJ4k"
      }
    }
  ]
}